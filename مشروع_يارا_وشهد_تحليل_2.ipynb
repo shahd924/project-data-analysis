{
  "cells": [
    {
      "cell_type": "code",
      "execution_count": 8,
      "metadata": {
        "id": "lIYdn1woOS1n"
      },
      "outputs": [],
      "source": [
        "import pandas as pd\n",
        "from sklearn.model_selection import train_test_split\n",
        "from sklearn.naive_bayes import GaussianNB\n",
        "from sklearn.metrics import accuracy_score, confusion_matrix, classification_report\n",
        "import seaborn as sns\n",
        "import matplotlib.pyplot as plt\n"
      ]
    },
    {
      "cell_type": "code",
      "source": [
        "from google.colab import drive\n",
        "drive.mount('/content/drive')"
      ],
      "metadata": {
        "id": "GNUZl-fTnk1B",
        "outputId": "15b5c3e2-bc35-4648-f5f8-33e6b498659b",
        "colab": {
          "base_uri": "https://localhost:8080/"
        }
      },
      "execution_count": 9,
      "outputs": [
        {
          "output_type": "stream",
          "name": "stdout",
          "text": [
            "Drive already mounted at /content/drive; to attempt to forcibly remount, call drive.mount(\"/content/drive\", force_remount=True).\n"
          ]
        }
      ]
    },
    {
      "cell_type": "code",
      "source": [
        "import pandas as pd\n",
        "\n",
        "# قراءة الملف\n",
        "df = pd.read_csv('/content/drive/MyDrive/Colab Notebooks/diabetes.csv')\n",
        "\n",
        "# عرض أول 5 صفوف من البيانات\n",
        "print(df)\n"
      ],
      "metadata": {
        "id": "Lv_g3xCznq7d",
        "outputId": "0c9c7342-947d-41ef-b770-86b236715bff",
        "colab": {
          "base_uri": "https://localhost:8080/"
        }
      },
      "execution_count": 10,
      "outputs": [
        {
          "output_type": "stream",
          "name": "stdout",
          "text": [
            "     Pregnancies  Glucose  BloodPressure  SkinThickness  Insulin   BMI  \\\n",
            "0              6      148             72             35        0  33.6   \n",
            "1              1       85             66             29        0  26.6   \n",
            "2              8      183             64              0        0  23.3   \n",
            "3              1       89             66             23       94  28.1   \n",
            "4              0      137             40             35      168  43.1   \n",
            "..           ...      ...            ...            ...      ...   ...   \n",
            "763           10      101             76             48      180  32.9   \n",
            "764            2      122             70             27        0  36.8   \n",
            "765            5      121             72             23      112  26.2   \n",
            "766            1      126             60              0        0  30.1   \n",
            "767            1       93             70             31        0  30.4   \n",
            "\n",
            "     DiabetesPedigreeFunction  Age  Outcome  \n",
            "0                       0.627   50        1  \n",
            "1                       0.351   31        0  \n",
            "2                       0.672   32        1  \n",
            "3                       0.167   21        0  \n",
            "4                       2.288   33        1  \n",
            "..                        ...  ...      ...  \n",
            "763                     0.171   63        0  \n",
            "764                     0.340   27        0  \n",
            "765                     0.245   30        0  \n",
            "766                     0.349   47        1  \n",
            "767                     0.315   23        0  \n",
            "\n",
            "[768 rows x 9 columns]\n"
          ]
        }
      ]
    },
    {
      "cell_type": "code",
      "source": [
        "df.info()"
      ],
      "metadata": {
        "id": "cg-ayvO8wd6G",
        "outputId": "d437c1c5-f258-4e09-faa5-ebf03e34787f",
        "colab": {
          "base_uri": "https://localhost:8080/"
        }
      },
      "execution_count": 11,
      "outputs": [
        {
          "output_type": "stream",
          "name": "stdout",
          "text": [
            "<class 'pandas.core.frame.DataFrame'>\n",
            "RangeIndex: 768 entries, 0 to 767\n",
            "Data columns (total 9 columns):\n",
            " #   Column                    Non-Null Count  Dtype  \n",
            "---  ------                    --------------  -----  \n",
            " 0   Pregnancies               768 non-null    int64  \n",
            " 1   Glucose                   768 non-null    int64  \n",
            " 2   BloodPressure             768 non-null    int64  \n",
            " 3   SkinThickness             768 non-null    int64  \n",
            " 4   Insulin                   768 non-null    int64  \n",
            " 5   BMI                       768 non-null    float64\n",
            " 6   DiabetesPedigreeFunction  768 non-null    float64\n",
            " 7   Age                       768 non-null    int64  \n",
            " 8   Outcome                   768 non-null    int64  \n",
            "dtypes: float64(2), int64(7)\n",
            "memory usage: 54.1 KB\n"
          ]
        }
      ]
    },
    {
      "cell_type": "code",
      "source": [
        "import seaborn as sns\n",
        "import matplotlib.pyplot as plt\n",
        "\n",
        "# رسم بياني لتوزيع النتائج\n",
        "plt.figure(figsize=(8, 6))\n",
        "sns.countplot(data=df, x='Outcome')\n",
        "plt.xticks(rotation=45, ha='right')\n",
        "plt.title('Distribution of Diabetes Outcome')\n",
        "plt.show()\n"
      ],
      "metadata": {
        "id": "OvPwijXtwncq",
        "outputId": "580cb393-ca3e-4634-ff05-362518350249",
        "colab": {
          "base_uri": "https://localhost:8080/",
          "height": 566
        }
      },
      "execution_count": 12,
      "outputs": [
        {
          "output_type": "display_data",
          "data": {
            "text/plain": [
              "<Figure size 800x600 with 1 Axes>"
            ],
            "image/png": "[encoded data removed]"
          },
          "metadata": {}
        }
      ]
    },
    {
      "cell_type": "code",
      "source": [
        "# تقسيم البيانات إلى ميزات (X) والهدف (y)\n",
        "X = df.drop('Outcome', axis=1)  # ميزات المدخلات\n",
        "y = df['Outcome']  # الهدف\n"
      ],
      "metadata": {
        "id": "ulMGXmLow90c"
      },
      "execution_count": 13,
      "outputs": []
    },
    {
      "cell_type": "code",
      "source": [
        "from sklearn.model_selection import train_test_split\n",
        "\n",
        "# تقسيم البيانات إلى مجموعات تدريب واختبار\n",
        "X_train, X_test, y_train, y_test = train_test_split(\n",
        "    X, y, test_size=0.33, random_state=125\n",
        ")\n",
        "\n",
        "# عرض أبعاد البيانات بعد التقسيم\n",
        "print(f\"Training data shape: {X_train.shape}, {y_train.shape}\")\n",
        "print(f\"Testing data shape: {X_test.shape}, {y_test.shape}\")\n"
      ],
      "metadata": {
        "id": "zoh8FBbq1M59",
        "colab": {
          "base_uri": "https://localhost:8080/"
        },
        "outputId": "01bb9f9d-8c6c-41c9-d94b-1f9a10faf84c"
      },
      "execution_count": 14,
      "outputs": [
        {
          "output_type": "stream",
          "name": "stdout",
          "text": [
            "Training data shape: (514, 8), (514,)\n",
            "Testing data shape: (254, 8), (254,)\n"
          ]
        }
      ]
    },
    {
      "cell_type": "code",
      "source": [
        "from sklearn.naive_bayes import GaussianNB\n",
        "\n",
        "# إنشاء نموذج Gaussian Naive Bayes\n",
        "model = GaussianNB()\n",
        "\n",
        "# تدريب النموذج باستخدام بيانات التدريب\n",
        "model.fit(X_train, y_train)\n",
        "\n",
        "# عرض رسالة توضح انتهاء عملية التدريب\n",
        "print(\"Model training complete.\")\n"
      ],
      "metadata": {
        "id": "JIY529DT1YL3",
        "colab": {
          "base_uri": "https://localhost:8080/"
        },
        "outputId": "95aac6e4-cf2a-4326-c85c-e38a91ea5300"
      },
      "execution_count": 15,
      "outputs": [
        {
          "output_type": "stream",
          "name": "stdout",
          "text": [
            "Model training complete.\n"
          ]
        }
      ]
    },
    {
      "cell_type": "code",
      "source": [
        "from sklearn.metrics import (\n",
        "    accuracy_score,\n",
        "    confusion_matrix,\n",
        "    ConfusionMatrixDisplay,\n",
        "    f1_score,\n",
        "    classification_report,\n",
        ")\n",
        "\n",
        "# استخدام النموذج المدرب للتنبؤ بالقيم على بيانات الاختبار\n",
        "y_pred = model.predict(X_test)\n",
        "\n",
        "# حساب الدقة ودرجة F1\n",
        "accuracy = accuracy_score(y_test, y_pred)\n",
        "f1 = f1_score(y_test, y_pred, average=\"weighted\")\n",
        "\n",
        "# عرض النتائج\n",
        "print(f'Accuracy: {accuracy:.2f}')  # عرض دقة النموذج\n",
        "print(f'F1 Score: {f1:.2f}')  # عرض درجة F1 (مقياس للاتساق بين الدقة والاسترجاع)\n"
      ],
      "metadata": {
        "colab": {
          "base_uri": "https://localhost:8080/"
        },
        "id": "ruXnKP3Rv9on",
        "outputId": "204d4923-9f13-4cb0-8ffe-0f0058f41768"
      },
      "execution_count": 16,
      "outputs": [
        {
          "output_type": "stream",
          "name": "stdout",
          "text": [
            "Accuracy: 0.68\n",
            "F1 Score: 0.67\n"
          ]
        }
      ]
    },
    {
      "cell_type": "code",
      "source": [
        "# إنشاء وعرض مصفوفة الارتباك\n",
        "labels = [\"No Diabetes\", \"Diabetes\"]  # تسمية الفئات\n",
        "cm = confusion_matrix(y_test, y_pred)  # حساب مصفوفة الارتباك بناءً على النتائج الفعلية والمتوقعة\n",
        "disp = ConfusionMatrixDisplay(confusion_matrix=cm, display_labels=labels)  # تجهيز الرسم البياني\n",
        "disp.plot()  # عرض مصفوفة الارتباك\n",
        "plt.title('Confusion Matrix')  # عنوان للرسم البياني\n",
        "plt.show()  # عرض الرسم\n"
      ],
      "metadata": {
        "id": "digKmKAYNvHC",
        "colab": {
          "base_uri": "https://localhost:8080/",
          "height": 472
        },
        "outputId": "c174e0a6-9536-4741-b2ea-ca30d2a2ec67"
      },
      "execution_count": 17,
      "outputs": [
        {
          "output_type": "display_data",
          "data": {
            "text/plain": [
              "<Figure size 640x480 with 2 Axes>"
            ],
            "image/png": "[encoded data removed]"
          },
          "metadata": {}
        }
      ]
    },
    {
      "cell_type": "code",
      "source": [],
      "metadata": {
        "id": "8lzcLxLdwIps"
      },
      "execution_count": 17,
      "outputs": []
    },
    {
      "cell_type": "code",
      "source": [
        "from sklearn.metrics import (\n",
        "    accuracy_score,\n",
        "    confusion_matrix,\n",
        "    ConfusionMatrixDisplay,\n",
        "    f1_score,\n",
        "    classification_report,\n",
        ")\n",
        "\n",
        "y_pred = model.predict(X_test)\n",
        "\n",
        "accuray = accuracy_score(y_pred, y_test)\n",
        "f1 = f1_score(y_pred, y_test, average=\"weighted\")\n",
        "\n",
        "print(\"Accuracy:\", accuray)\n",
        "print(\"F1 Score:\", f1)"
      ],
      "metadata": {
        "colab": {
          "base_uri": "https://localhost:8080/"
        },
        "id": "avSp1nhrPOVA",
        "outputId": "0f603417-c79d-475b-f441-249ca8cdf519"
      },
      "execution_count": 18,
      "outputs": [
        {
          "output_type": "stream",
          "name": "stdout",
          "text": [
            "Accuracy: 0.6771653543307087\n",
            "F1 Score: 0.684746683234644\n"
          ]
        }
      ]
    },
    {
      "cell_type": "code",
      "source": [
        "# إنشاء وعرض مصفوفة الارتباك\n",
        "labels = [\"No Diabetes\", \"Diabetes\"]\n",
        "cm = confusion_matrix(y_test, y_pred)\n",
        "disp = ConfusionMatrixDisplay(confusion_matrix=cm, display_labels=labels)\n",
        "disp.plot()\n",
        "plt.title('Confusion Matrix')\n",
        "plt.show()\n"
      ],
      "metadata": {
        "id": "s1tPFHGeQTtK",
        "colab": {
          "base_uri": "https://localhost:8080/",
          "height": 472
        },
        "outputId": "5d61e4b3-4593-4684-c31f-009186b51ecc"
      },
      "execution_count": 19,
      "outputs": [
        {
          "output_type": "display_data",
          "data": {
            "text/plain": [
              "<Figure size 640x480 with 2 Axes>"
            ],
            "image/png": "[encoded data removed]"
          },
          "metadata": {}
        }
      ]
    },
    {
      "cell_type": "code",
      "source": [
        "pip install scikit-learn\n"
      ],
      "metadata": {
        "colab": {
          "base_uri": "https://localhost:8080/"
        },
        "id": "gjS97a7fKDQB",
        "outputId": "d91b8589-2262-4861-be5d-1b7e3d755fbe"
      },
      "execution_count": 20,
      "outputs": [
        {
          "output_type": "stream",
          "name": "stdout",
          "text": [
            "Requirement already satisfied: scikit-learn in /usr/local/lib/python3.10/dist-packages (1.5.2)\n",
            "Requirement already satisfied: numpy>=1.19.5 in /usr/local/lib/python3.10/dist-packages (from scikit-learn) (1.26.4)\n",
            "Requirement already satisfied: scipy>=1.6.0 in /usr/local/lib/python3.10/dist-packages (from scikit-learn) (1.13.1)\n",
            "Requirement already satisfied: joblib>=1.2.0 in /usr/local/lib/python3.10/dist-packages (from scikit-learn) (1.4.2)\n",
            "Requirement already satisfied: threadpoolctl>=3.1.0 in /usr/local/lib/python3.10/dist-packages (from scikit-learn) (3.5.0)\n"
          ]
        }
      ]
    },
    {
      "cell_type": "code",
      "source": [
        "from sklearn.preprocessing import MinMaxScaler\n",
        "\n",
        "# فصل الميزات (X) والنتيجة المستهدفة (y)\n",
        "X = df.drop('Outcome', axis=1)\n",
        "y = df['Outcome']\n",
        "\n",
        "# تطبيع البيانات لجعلها مناسبة لخوارزمية MultinomialNB (يجب أن تكون القيم إيجابية)\n",
        "scaler = MinMaxScaler()\n",
        "X_scaled = scaler.fit_transform(X)"
      ],
      "metadata": {
        "id": "BVGhn7MYKM0x"
      },
      "execution_count": 21,
      "outputs": []
    },
    {
      "cell_type": "code",
      "source": [
        "\n",
        "\n",
        "# تقسيم البيانات إلى مجموعة تدريب (70%) ومجموعة اختبار (30%)\n",
        "X_train, X_test, y_train, y_test = train_test_split(X_scaled, y, test_size=0.3, random_state=42)"
      ],
      "metadata": {
        "id": "-qgKsiqtKZ7r"
      },
      "execution_count": 22,
      "outputs": []
    },
    {
      "cell_type": "code",
      "source": [
        "from sklearn.naive_bayes import MultinomialNB\n",
        "from sklearn.preprocessing import MinMaxScaler\n",
        "from sklearn.metrics import accuracy_score, classification_report\n",
        "from sklearn.naive_bayes import BernoulliNB\n"
      ],
      "metadata": {
        "id": "ExNhci2hKoX7"
      },
      "execution_count": 23,
      "outputs": []
    },
    {
      "cell_type": "code",
      "source": [
        "\n",
        "X = df.drop('Outcome', axis=1)  # الميزات\n",
        "y = df['Outcome']  # النتائج\n",
        "\n",
        "# تقسيم البيانات إلى مجموعة تدريب واختبار\n",
        "X_train, X_test, y_train, y_test = train_test_split(X, y, test_size=0.2, random_state=42)\n",
        "\n",
        "# إنشاء نموذج Multinomial Naive Bayes\n",
        "model = MultinomialNB()\n",
        "\n",
        "# تدريب النموذج\n",
        "model.fit(X_train, y_train)\n",
        "\n",
        "# إجراء التنبؤات على مجموعة الاختبار\n",
        "y_pred = model.predict(X_test)\n",
        "\n",
        "# تقييم النموذج\n",
        "accuracy = accuracy_score(y_test, y_pred)\n",
        "print(\"Accuracy:\", accuray)\n",
        "print(\"F1 Score:\", f1)\n",
        "print('Classification Report:')\n",
        "print(classification_report(y_test, y_pred))"
      ],
      "metadata": {
        "colab": {
          "base_uri": "https://localhost:8080/"
        },
        "id": "8eo_ywXUKLCR",
        "outputId": "be5895bb-4ffb-4200-f037-7b33d2a97b20"
      },
      "execution_count": 24,
      "outputs": [
        {
          "output_type": "stream",
          "name": "stdout",
          "text": [
            "Accuracy: 0.6771653543307087\n",
            "F1 Score: 0.684746683234644\n",
            "Classification Report:\n",
            "              precision    recall  f1-score   support\n",
            "\n",
            "           0       0.73      0.75      0.74        99\n",
            "           1       0.53      0.51      0.52        55\n",
            "\n",
            "    accuracy                           0.66       154\n",
            "   macro avg       0.63      0.63      0.63       154\n",
            "weighted avg       0.66      0.66      0.66       154\n",
            "\n"
          ]
        }
      ]
    },
    {
      "cell_type": "code",
      "source": [],
      "metadata": {
        "id": "nA6r7TW5PoGz"
      },
      "execution_count": 24,
      "outputs": []
    }
  ],
  "metadata": {
    "colab": {
      "provenance": []
    },
    "kernelspec": {
      "display_name": "Python 3",
      "name": "python3"
    }
  },
  "nbformat": 4,
  "nbformat_minor": 0
}